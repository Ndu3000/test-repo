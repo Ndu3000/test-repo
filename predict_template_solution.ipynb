{
  "nbformat": 4,
  "nbformat_minor": 0,
  "metadata": {
    "kernelspec": {
      "display_name": "Python 3",
      "language": "python",
      "name": "python3"
    },
    "language_info": {
      "codemirror_mode": {
        "name": "ipython",
        "version": 3
      },
      "file_extension": ".py",
      "mimetype": "text/x-python",
      "name": "python",
      "nbconvert_exporter": "python",
      "pygments_lexer": "ipython3",
      "version": "3.6.10"
    },
    "toc": {
      "base_numbering": 1,
      "nav_menu": {},
      "number_sections": true,
      "sideBar": true,
      "skip_h1_title": false,
      "title_cell": "Table of Contents",
      "title_sidebar": "Contents",
      "toc_cell": false,
      "toc_position": {},
      "toc_section_display": true,
      "toc_window_display": false
    },
    "varInspector": {
      "cols": {
        "lenName": 16,
        "lenType": 16,
        "lenVar": 40
      },
      "kernels_config": {
        "python": {
          "delete_cmd_postfix": "",
          "delete_cmd_prefix": "del ",
          "library": "var_list.py",
          "varRefreshCmd": "print(var_dic_list())"
        },
        "r": {
          "delete_cmd_postfix": ") ",
          "delete_cmd_prefix": "rm(",
          "library": "var_list.r",
          "varRefreshCmd": "cat(var_dic_list()) "
        }
      },
      "oldHeight": 403.31234,
      "position": {
        "height": "425.958px",
        "left": "7.33333px",
        "right": "20px",
        "top": "404px",
        "width": "349.646px"
      },
      "types_to_exclude": [
        "module",
        "function",
        "builtin_function_or_method",
        "instance",
        "_Feature"
      ],
      "varInspector_section_display": "block",
      "window_display": false
    },
    "colab": {
      "name": "predict_template_solution.ipynb",
      "provenance": [],
      "toc_visible": true,
      "include_colab_link": true
    }
  },
  "cells": [
    {
      "cell_type": "markdown",
      "metadata": {
        "id": "view-in-github",
        "colab_type": "text"
      },
      "source": [
        "<a href=\"https://colab.research.google.com/github/Ndu3000/test-repo/blob/master/predict_template_solution.ipynb\" target=\"_parent\"><img src=\"https://colab.research.google.com/assets/colab-badge.svg\" alt=\"Open In Colab\"/></a>"
      ]
    },
    {
      "cell_type": "markdown",
      "metadata": {
        "id": "c1LD-HaULEEr",
        "colab_type": "text"
      },
      "source": [
        "# Introduction"
      ]
    },
    {
      "cell_type": "markdown",
      "metadata": {
        "heading_collapsed": true,
        "id": "47AMcLOYLEEt",
        "colab_type": "text"
      },
      "source": [
        "## Context\n",
        "\n",
        "Sendy, in partnership with insight2impact facility, is hosting a Zindi challenge to predict the estimated time of delivery of orders, from the point of driver pickup to the point of arrival at final destination.\n",
        "\n",
        "The solution will help Sendy enhance customer communication and improve the reliability of its service; which will ultimately improve customer experience. In addition, the solution will enable Sendy to realise cost savings, and ultimately reduce the cost of doing business, through improved resource management and planning for order scheduling.\n",
        "\n",
        "Sendy helps men and women behind every type of business to trade easily, deliver more competitively, and build extraordinary businesses.\n",
        "\n",
        "## Problem Statement\n",
        "\n",
        "Data is a critical component in helping Sendy to build more efficient, affordable and accessible solutions. Given the details of a Sendy order, can we use historic data to predict an accurate time for the arrival of the rider at the destination of a package? In this competition, we’re challenging you to build a model that predicts an accurate delivery time, from picking up a package to arriving at the final destination. An accurate arrival time prediction will help all businesses to improve their logistics and communicate an accurate time to their customers."
      ]
    },
    {
      "cell_type": "markdown",
      "metadata": {
        "hide_input": true,
        "id": "EhkZFUYHLEEu",
        "colab_type": "text"
      },
      "source": [
        "# Data Exploration"
      ]
    },
    {
      "cell_type": "code",
      "metadata": {
        "id": "kjds1TSoLEEv",
        "colab_type": "code",
        "colab": {}
      },
      "source": [
        "# import packages\n",
        "import pandas as pd\n",
        "import numpy as np"
      ],
      "execution_count": 0,
      "outputs": []
    },
    {
      "cell_type": "code",
      "metadata": {
        "id": "wM399RmZLEE0",
        "colab_type": "code",
        "colab": {}
      },
      "source": [
        "# Import data\n",
        "data = pd.read_csv('')\n",
        "data"
      ],
      "execution_count": 0,
      "outputs": []
    },
    {
      "cell_type": "code",
      "metadata": {
        "id": "tcEVIn52LEE5",
        "colab_type": "code",
        "colab": {}
      },
      "source": [
        ""
      ],
      "execution_count": 0,
      "outputs": []
    },
    {
      "cell_type": "markdown",
      "metadata": {
        "id": "zulOP0AGLEFA",
        "colab_type": "text"
      },
      "source": [
        "## Data Structures"
      ]
    },
    {
      "cell_type": "code",
      "metadata": {
        "id": "nuoodTCYLEFB",
        "colab_type": "code",
        "colab": {}
      },
      "source": [
        "# Investigate and correctly format data structures "
      ],
      "execution_count": 0,
      "outputs": []
    },
    {
      "cell_type": "markdown",
      "metadata": {
        "heading_collapsed": true,
        "id": "R5g_02A8LEFE",
        "colab_type": "text"
      },
      "source": [
        "## Missing Values"
      ]
    },
    {
      "cell_type": "code",
      "metadata": {
        "hidden": true,
        "id": "7-joO5dVLEFG",
        "colab_type": "code",
        "colab": {}
      },
      "source": [
        "# investigate missing values and treat them accordingly"
      ],
      "execution_count": 0,
      "outputs": []
    },
    {
      "cell_type": "markdown",
      "metadata": {
        "heading_collapsed": true,
        "id": "8JNejF4tLEFL",
        "colab_type": "text"
      },
      "source": [
        "# Benchmark Model"
      ]
    },
    {
      "cell_type": "code",
      "metadata": {
        "hidden": true,
        "id": "d3qhT0ezLEFL",
        "colab_type": "code",
        "colab": {}
      },
      "source": [
        "# minimal data preprocessing (just enough to build base model)"
      ],
      "execution_count": 0,
      "outputs": []
    },
    {
      "cell_type": "code",
      "metadata": {
        "hidden": true,
        "id": "lvVJQlKELEFT",
        "colab_type": "code",
        "colab": {}
      },
      "source": [
        "# fit model and cross validate perfomance"
      ],
      "execution_count": 0,
      "outputs": []
    },
    {
      "cell_type": "markdown",
      "metadata": {
        "heading_collapsed": true,
        "id": "lQKKb59zLEFY",
        "colab_type": "text"
      },
      "source": [
        "# Exploratory Data Analysis"
      ]
    },
    {
      "cell_type": "markdown",
      "metadata": {
        "heading_collapsed": true,
        "hidden": true,
        "id": "YXqA64fULEFY",
        "colab_type": "text"
      },
      "source": [
        "## Univariate Analysis"
      ]
    },
    {
      "cell_type": "code",
      "metadata": {
        "hidden": true,
        "id": "Wr7ufM5PLEFZ",
        "colab_type": "code",
        "colab": {}
      },
      "source": [
        "# plot histograms for numeric features - lookout for outliers and leverage points"
      ],
      "execution_count": 0,
      "outputs": []
    },
    {
      "cell_type": "code",
      "metadata": {
        "hidden": true,
        "id": "hil7c1sYLEFc",
        "colab_type": "code",
        "colab": {}
      },
      "source": [
        "# plot histograms for categorical features - Lookout for too many levels that can be grouped together"
      ],
      "execution_count": 0,
      "outputs": []
    },
    {
      "cell_type": "code",
      "metadata": {
        "hidden": true,
        "id": "jiP4oGGWLEFf",
        "colab_type": "code",
        "colab": {}
      },
      "source": [
        "# Further analysis of missing values (if required)"
      ],
      "execution_count": 0,
      "outputs": []
    },
    {
      "cell_type": "markdown",
      "metadata": {
        "heading_collapsed": true,
        "hidden": true,
        "id": "k2xrZTWwLEFk",
        "colab_type": "text"
      },
      "source": [
        "## Multivariate Analysis"
      ]
    },
    {
      "cell_type": "code",
      "metadata": {
        "hidden": true,
        "id": "PmL7ecHqLEFl",
        "colab_type": "code",
        "colab": {}
      },
      "source": [
        "# analyse relationships between features (correlation and factor analysis)"
      ],
      "execution_count": 0,
      "outputs": []
    },
    {
      "cell_type": "code",
      "metadata": {
        "hidden": true,
        "id": "BQctJLaULEFp",
        "colab_type": "code",
        "colab": {}
      },
      "source": [
        "# check for collinearity and multi-collinearity"
      ],
      "execution_count": 0,
      "outputs": []
    },
    {
      "cell_type": "code",
      "metadata": {
        "hidden": true,
        "id": "lb_EKTDVLEFt",
        "colab_type": "code",
        "colab": {}
      },
      "source": [
        "# analyses relationship between features and target"
      ],
      "execution_count": 0,
      "outputs": []
    },
    {
      "cell_type": "markdown",
      "metadata": {
        "heading_collapsed": true,
        "id": "CD-kStAJLEFy",
        "colab_type": "text"
      },
      "source": [
        "# Feature Engineering"
      ]
    },
    {
      "cell_type": "code",
      "metadata": {
        "hidden": true,
        "id": "qIzqQLsSLEFz",
        "colab_type": "code",
        "colab": {}
      },
      "source": [
        "# investigate non linearity"
      ],
      "execution_count": 0,
      "outputs": []
    },
    {
      "cell_type": "code",
      "metadata": {
        "hidden": true,
        "id": "PxRFLekbLEF5",
        "colab_type": "code",
        "colab": {}
      },
      "source": [
        "# investigate feature interactions and synergy"
      ],
      "execution_count": 0,
      "outputs": []
    },
    {
      "cell_type": "code",
      "metadata": {
        "hidden": true,
        "id": "B1TDZM6cLEGA",
        "colab_type": "code",
        "colab": {}
      },
      "source": [
        "# other transformations (data mining)"
      ],
      "execution_count": 0,
      "outputs": []
    },
    {
      "cell_type": "markdown",
      "metadata": {
        "heading_collapsed": true,
        "id": "_XBoZzqvLEGH",
        "colab_type": "text"
      },
      "source": [
        "# Feature Selection"
      ]
    },
    {
      "cell_type": "code",
      "metadata": {
        "hidden": true,
        "id": "E4-ah4hVLEGI",
        "colab_type": "code",
        "colab": {}
      },
      "source": [
        "# L1 and L2 Regularisation"
      ],
      "execution_count": 0,
      "outputs": []
    },
    {
      "cell_type": "code",
      "metadata": {
        "hidden": true,
        "id": "Wi-6EwdtLEGO",
        "colab_type": "code",
        "colab": {}
      },
      "source": [
        "# forward selection, backward selection and/or mixed selection"
      ],
      "execution_count": 0,
      "outputs": []
    },
    {
      "cell_type": "code",
      "metadata": {
        "hidden": true,
        "id": "qsjLerZzLEGT",
        "colab_type": "code",
        "colab": {}
      },
      "source": [
        "# genetic algorithms (borita)"
      ],
      "execution_count": 0,
      "outputs": []
    },
    {
      "cell_type": "code",
      "metadata": {
        "hidden": true,
        "id": "Xor88yRGLEGZ",
        "colab_type": "code",
        "colab": {}
      },
      "source": [
        "# Random forests and feature importance"
      ],
      "execution_count": 0,
      "outputs": []
    },
    {
      "cell_type": "markdown",
      "metadata": {
        "heading_collapsed": true,
        "id": "DLrm64-_LEGe",
        "colab_type": "text"
      },
      "source": [
        "# Model Selection "
      ]
    },
    {
      "cell_type": "code",
      "metadata": {
        "hidden": true,
        "id": "UOc9_AgZLEGf",
        "colab_type": "code",
        "colab": {}
      },
      "source": [
        "# fit multiple models and do hyper-parameter tuning"
      ],
      "execution_count": 0,
      "outputs": []
    },
    {
      "cell_type": "code",
      "metadata": {
        "hidden": true,
        "id": "6iTsuJpyLEGl",
        "colab_type": "code",
        "colab": {}
      },
      "source": [
        "# cross validate model perfomance"
      ],
      "execution_count": 0,
      "outputs": []
    },
    {
      "cell_type": "code",
      "metadata": {
        "hidden": true,
        "id": "YFWYSnZdLEGq",
        "colab_type": "code",
        "colab": {}
      },
      "source": [
        "# select the best model and implement it as final solution"
      ],
      "execution_count": 0,
      "outputs": []
    },
    {
      "cell_type": "markdown",
      "metadata": {
        "heading_collapsed": true,
        "id": "uglIVlEcLEG7",
        "colab_type": "text"
      },
      "source": [
        "# Summary of Conclusions"
      ]
    },
    {
      "cell_type": "code",
      "metadata": {
        "hidden": true,
        "id": "pqpoOYikLEG8",
        "colab_type": "code",
        "colab": {}
      },
      "source": [
        "# summarise findings and make recommendations"
      ],
      "execution_count": 0,
      "outputs": []
    }
  ]
}