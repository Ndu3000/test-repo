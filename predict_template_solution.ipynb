{
  "nbformat": 4,
  "nbformat_minor": 0,
  "metadata": {
    "kernelspec": {
      "display_name": "Python 3",
      "language": "python",
      "name": "python3"
    },
    "language_info": {
      "codemirror_mode": {
        "name": "ipython",
        "version": 3
      },
      "file_extension": ".py",
      "mimetype": "text/x-python",
      "name": "python",
      "nbconvert_exporter": "python",
      "pygments_lexer": "ipython3",
      "version": "3.6.10"
    },
    "toc": {
      "base_numbering": 1,
      "nav_menu": {},
      "number_sections": true,
      "sideBar": true,
      "skip_h1_title": false,
      "title_cell": "Table of Contents",
      "title_sidebar": "Contents",
      "toc_cell": false,
      "toc_position": {},
      "toc_section_display": true,
      "toc_window_display": false
    },
    "varInspector": {
      "cols": {
        "lenName": 16,
        "lenType": 16,
        "lenVar": 40
      },
      "kernels_config": {
        "python": {
          "delete_cmd_postfix": "",
          "delete_cmd_prefix": "del ",
          "library": "var_list.py",
          "varRefreshCmd": "print(var_dic_list())"
        },
        "r": {
          "delete_cmd_postfix": ") ",
          "delete_cmd_prefix": "rm(",
          "library": "var_list.r",
          "varRefreshCmd": "cat(var_dic_list()) "
        }
      },
      "oldHeight": 403.31234,
      "position": {
        "height": "425.958px",
        "left": "7.33333px",
        "right": "20px",
        "top": "404px",
        "width": "349.646px"
      },
      "types_to_exclude": [
        "module",
        "function",
        "builtin_function_or_method",
        "instance",
        "_Feature"
      ],
      "varInspector_section_display": "block",
      "window_display": false
    },
    "colab": {
      "name": "predict_template_solution.ipynb",
      "provenance": [],
      "toc_visible": true,
      "include_colab_link": true
    }
  },
  "cells": [
    {
      "cell_type": "markdown",
      "metadata": {
        "id": "view-in-github",
        "colab_type": "text"
      },
      "source": [
        "<a href=\"https://colab.research.google.com/github/Ndu3000/test-repo/blob/master/predict_template_solution.ipynb\" target=\"_parent\"><img src=\"https://colab.research.google.com/assets/colab-badge.svg\" alt=\"Open In Colab\"/></a>"
      ]
    },
    {
      "cell_type": "code",
      "metadata": {
        "id": "SZw9Do1hXs-A",
        "colab_type": "code",
        "colab": {
          "base_uri": "https://localhost:8080/",
          "height": 122
        },
        "outputId": "a1888fd7-d13c-4a96-c692-b29b23123867"
      },
      "source": [
        "from google.colab import drive\n",
        "drive.mount('/content/drive')"
      ],
      "execution_count": 2,
      "outputs": [
        {
          "output_type": "stream",
          "text": [
            "Go to this URL in a browser: https://accounts.google.com/o/oauth2/auth?client_id=947318989803-6bn6qk8qdgf4n4g3pfee6491hc0brc4i.apps.googleusercontent.com&redirect_uri=urn%3aietf%3awg%3aoauth%3a2.0%3aoob&response_type=code&scope=email%20https%3a%2f%2fwww.googleapis.com%2fauth%2fdocs.test%20https%3a%2f%2fwww.googleapis.com%2fauth%2fdrive%20https%3a%2f%2fwww.googleapis.com%2fauth%2fdrive.photos.readonly%20https%3a%2f%2fwww.googleapis.com%2fauth%2fpeopleapi.readonly\n",
            "\n",
            "Enter your authorization code:\n",
            "··········\n",
            "Mounted at /content/drive\n"
          ],
          "name": "stdout"
        }
      ]
    },
    {
      "cell_type": "markdown",
      "metadata": {
        "id": "veEytxfCW_Sw",
        "colab_type": "text"
      },
      "source": [
        "# Introduction"
      ]
    },
    {
      "cell_type": "markdown",
      "metadata": {
        "heading_collapsed": true,
        "id": "-0OZfiL1W_S5",
        "colab_type": "text"
      },
      "source": [
        "## Context\n",
        "\n",
        "Sendy, in partnership with insight2impact facility, is hosting a Zindi challenge to predict the estimated time of delivery of orders, from the point of driver pickup to the point of arrival at final destination.\n",
        "\n",
        "The solution will help Sendy enhance customer communication and improve the reliability of its service; which will ultimately improve customer experience. In addition, the solution will enable Sendy to realise cost savings, and ultimately reduce the cost of doing business, through improved resource management and planning for order scheduling.\n",
        "\n",
        "Sendy helps men and women behind every type of business to trade easily, deliver more competitively, and build extraordinary businesses.\n",
        "\n",
        "## Problem Statement\n",
        "\n",
        "Data is a critical component in helping Sendy to build more efficient, affordable and accessible solutions. Given the details of a Sendy order, can we use historic data to predict an accurate time for the arrival of the rider at the destination of a package? In this competition, we’re challenging you to build a model that predicts an accurate delivery time, from picking up a package to arriving at the final destination. An accurate arrival time prediction will help all businesses to improve their logistics and communicate an accurate time to their customers."
      ]
    },
    {
      "cell_type": "markdown",
      "metadata": {
        "hide_input": true,
        "id": "d1ybCGUlW_S9",
        "colab_type": "text"
      },
      "source": [
        "# Data Exploration"
      ]
    },
    {
      "cell_type": "code",
      "metadata": {
        "id": "4O4q7p9JW_TA",
        "colab_type": "code",
        "colab": {}
      },
      "source": [
        "# import packages\n",
        "import pandas as pd\n",
        "import numpy as np"
      ],
      "execution_count": 0,
      "outputs": []
    },
    {
      "cell_type": "code",
      "metadata": {
        "id": "Air_fCe0W_TL",
        "colab_type": "code",
        "colab": {
          "base_uri": "https://localhost:8080/",
          "height": 419
        },
        "outputId": "485977a8-7a83-4bbe-ba9d-fcd39d0b44a4"
      },
      "source": [
        "# Import data\n",
        "data = pd.read_csv('/content/drive/My Drive/Machine Learning A-Z (Codes and Datasets)/EDSA/Riders.csv')\n",
        "data"
      ],
      "execution_count": 5,
      "outputs": [
        {
          "output_type": "execute_result",
          "data": {
            "text/html": [
              "<div>\n",
              "<style scoped>\n",
              "    .dataframe tbody tr th:only-of-type {\n",
              "        vertical-align: middle;\n",
              "    }\n",
              "\n",
              "    .dataframe tbody tr th {\n",
              "        vertical-align: top;\n",
              "    }\n",
              "\n",
              "    .dataframe thead th {\n",
              "        text-align: right;\n",
              "    }\n",
              "</style>\n",
              "<table border=\"1\" class=\"dataframe\">\n",
              "  <thead>\n",
              "    <tr style=\"text-align: right;\">\n",
              "      <th></th>\n",
              "      <th>Rider Id</th>\n",
              "      <th>No_Of_Orders</th>\n",
              "      <th>Age</th>\n",
              "      <th>Average_Rating</th>\n",
              "      <th>No_of_Ratings</th>\n",
              "    </tr>\n",
              "  </thead>\n",
              "  <tbody>\n",
              "    <tr>\n",
              "      <th>0</th>\n",
              "      <td>Rider_Id_396</td>\n",
              "      <td>2946</td>\n",
              "      <td>2298</td>\n",
              "      <td>14.0</td>\n",
              "      <td>1159</td>\n",
              "    </tr>\n",
              "    <tr>\n",
              "      <th>1</th>\n",
              "      <td>Rider_Id_479</td>\n",
              "      <td>360</td>\n",
              "      <td>951</td>\n",
              "      <td>13.5</td>\n",
              "      <td>176</td>\n",
              "    </tr>\n",
              "    <tr>\n",
              "      <th>2</th>\n",
              "      <td>Rider_Id_648</td>\n",
              "      <td>1746</td>\n",
              "      <td>821</td>\n",
              "      <td>14.3</td>\n",
              "      <td>466</td>\n",
              "    </tr>\n",
              "    <tr>\n",
              "      <th>3</th>\n",
              "      <td>Rider_Id_753</td>\n",
              "      <td>314</td>\n",
              "      <td>980</td>\n",
              "      <td>12.5</td>\n",
              "      <td>75</td>\n",
              "    </tr>\n",
              "    <tr>\n",
              "      <th>4</th>\n",
              "      <td>Rider_Id_335</td>\n",
              "      <td>536</td>\n",
              "      <td>1113</td>\n",
              "      <td>13.7</td>\n",
              "      <td>156</td>\n",
              "    </tr>\n",
              "    <tr>\n",
              "      <th>...</th>\n",
              "      <td>...</td>\n",
              "      <td>...</td>\n",
              "      <td>...</td>\n",
              "      <td>...</td>\n",
              "      <td>...</td>\n",
              "    </tr>\n",
              "    <tr>\n",
              "      <th>955</th>\n",
              "      <td>Rider_Id_896</td>\n",
              "      <td>152</td>\n",
              "      <td>99</td>\n",
              "      <td>12.4</td>\n",
              "      <td>18</td>\n",
              "    </tr>\n",
              "    <tr>\n",
              "      <th>956</th>\n",
              "      <td>Rider_Id_149</td>\n",
              "      <td>69</td>\n",
              "      <td>101</td>\n",
              "      <td>10.2</td>\n",
              "      <td>10</td>\n",
              "    </tr>\n",
              "    <tr>\n",
              "      <th>957</th>\n",
              "      <td>Rider_Id_270</td>\n",
              "      <td>338</td>\n",
              "      <td>96</td>\n",
              "      <td>14.4</td>\n",
              "      <td>41</td>\n",
              "    </tr>\n",
              "    <tr>\n",
              "      <th>958</th>\n",
              "      <td>Rider_Id_201</td>\n",
              "      <td>159</td>\n",
              "      <td>96</td>\n",
              "      <td>15.0</td>\n",
              "      <td>9</td>\n",
              "    </tr>\n",
              "    <tr>\n",
              "      <th>959</th>\n",
              "      <td>Rider_Id_904</td>\n",
              "      <td>172</td>\n",
              "      <td>108</td>\n",
              "      <td>13.7</td>\n",
              "      <td>18</td>\n",
              "    </tr>\n",
              "  </tbody>\n",
              "</table>\n",
              "<p>960 rows × 5 columns</p>\n",
              "</div>"
            ],
            "text/plain": [
              "         Rider Id  No_Of_Orders   Age  Average_Rating  No_of_Ratings\n",
              "0    Rider_Id_396          2946  2298            14.0           1159\n",
              "1    Rider_Id_479           360   951            13.5            176\n",
              "2    Rider_Id_648          1746   821            14.3            466\n",
              "3    Rider_Id_753           314   980            12.5             75\n",
              "4    Rider_Id_335           536  1113            13.7            156\n",
              "..            ...           ...   ...             ...            ...\n",
              "955  Rider_Id_896           152    99            12.4             18\n",
              "956  Rider_Id_149            69   101            10.2             10\n",
              "957  Rider_Id_270           338    96            14.4             41\n",
              "958  Rider_Id_201           159    96            15.0              9\n",
              "959  Rider_Id_904           172   108            13.7             18\n",
              "\n",
              "[960 rows x 5 columns]"
            ]
          },
          "metadata": {
            "tags": []
          },
          "execution_count": 5
        }
      ]
    },
    {
      "cell_type": "code",
      "metadata": {
        "id": "8IxQ_xH0W_TP",
        "colab_type": "code",
        "colab": {}
      },
      "source": [
        ""
      ],
      "execution_count": 0,
      "outputs": []
    },
    {
      "cell_type": "markdown",
      "metadata": {
        "id": "Cxo1jo58W_TT",
        "colab_type": "text"
      },
      "source": [
        "## Data Structures"
      ]
    },
    {
      "cell_type": "code",
      "metadata": {
        "id": "QM3YEhdWW_TU",
        "colab_type": "code",
        "colab": {}
      },
      "source": [
        "# Investigate and correctly format data structures "
      ],
      "execution_count": 0,
      "outputs": []
    },
    {
      "cell_type": "markdown",
      "metadata": {
        "heading_collapsed": true,
        "id": "HpJpCYCMW_Td",
        "colab_type": "text"
      },
      "source": [
        "## Missing Values"
      ]
    },
    {
      "cell_type": "code",
      "metadata": {
        "hidden": true,
        "id": "DlVM8L3xW_Tf",
        "colab_type": "code",
        "colab": {}
      },
      "source": [
        "# investigate missing values and treat them accordingly"
      ],
      "execution_count": 0,
      "outputs": []
    },
    {
      "cell_type": "markdown",
      "metadata": {
        "heading_collapsed": true,
        "id": "_j2SAydXW_Tw",
        "colab_type": "text"
      },
      "source": [
        "# Benchmark Model"
      ]
    },
    {
      "cell_type": "code",
      "metadata": {
        "hidden": true,
        "id": "47WjhUy8W_Ty",
        "colab_type": "code",
        "colab": {}
      },
      "source": [
        "# minimal data preprocessing (just enough to build base model)"
      ],
      "execution_count": 0,
      "outputs": []
    },
    {
      "cell_type": "code",
      "metadata": {
        "hidden": true,
        "id": "KWAWYP8tW_UF",
        "colab_type": "code",
        "colab": {}
      },
      "source": [
        "# fit model and cross validate perfomance"
      ],
      "execution_count": 0,
      "outputs": []
    },
    {
      "cell_type": "markdown",
      "metadata": {
        "heading_collapsed": true,
        "id": "dawmjVIWW_UP",
        "colab_type": "text"
      },
      "source": [
        "# Exploratory Data Analysis"
      ]
    },
    {
      "cell_type": "markdown",
      "metadata": {
        "heading_collapsed": true,
        "hidden": true,
        "id": "WYOOY06fW_UQ",
        "colab_type": "text"
      },
      "source": [
        "## Univariate Analysis"
      ]
    },
    {
      "cell_type": "code",
      "metadata": {
        "hidden": true,
        "id": "0_fuNskbW_US",
        "colab_type": "code",
        "colab": {}
      },
      "source": [
        "# plot histograms for numeric features - lookout for outliers and leverage points"
      ],
      "execution_count": 0,
      "outputs": []
    },
    {
      "cell_type": "code",
      "metadata": {
        "hidden": true,
        "id": "XqnwUOrbW_Ud",
        "colab_type": "code",
        "colab": {}
      },
      "source": [
        "# plot histograms for categorical features - Lookout for too many levels that can be grouped together"
      ],
      "execution_count": 0,
      "outputs": []
    },
    {
      "cell_type": "code",
      "metadata": {
        "hidden": true,
        "id": "n-G87l5-W_Ug",
        "colab_type": "code",
        "colab": {}
      },
      "source": [
        "# Further analysis of missing values (if required)"
      ],
      "execution_count": 0,
      "outputs": []
    },
    {
      "cell_type": "markdown",
      "metadata": {
        "heading_collapsed": true,
        "hidden": true,
        "id": "MNC-tzuZW_Um",
        "colab_type": "text"
      },
      "source": [
        "## Multivariate Analysis"
      ]
    },
    {
      "cell_type": "code",
      "metadata": {
        "hidden": true,
        "id": "-r6sNKBhW_Um",
        "colab_type": "code",
        "colab": {}
      },
      "source": [
        "# analyse relationships between features (correlation and factor analysis)"
      ],
      "execution_count": 0,
      "outputs": []
    },
    {
      "cell_type": "code",
      "metadata": {
        "hidden": true,
        "id": "OdwtFLspW_Ut",
        "colab_type": "code",
        "colab": {}
      },
      "source": [
        "# check for collinearity and multi-collinearity"
      ],
      "execution_count": 0,
      "outputs": []
    },
    {
      "cell_type": "code",
      "metadata": {
        "hidden": true,
        "id": "Qa9lVooMW_Ux",
        "colab_type": "code",
        "colab": {}
      },
      "source": [
        "# analyses relationship between features and target"
      ],
      "execution_count": 0,
      "outputs": []
    },
    {
      "cell_type": "markdown",
      "metadata": {
        "heading_collapsed": true,
        "id": "1mnM4CaPW_U3",
        "colab_type": "text"
      },
      "source": [
        "# Feature Engineering"
      ]
    },
    {
      "cell_type": "code",
      "metadata": {
        "hidden": true,
        "id": "z9esnHXwW_U7",
        "colab_type": "code",
        "colab": {}
      },
      "source": [
        "# investigate non linearity"
      ],
      "execution_count": 0,
      "outputs": []
    },
    {
      "cell_type": "code",
      "metadata": {
        "hidden": true,
        "id": "bszoTNfCW_U-",
        "colab_type": "code",
        "colab": {}
      },
      "source": [
        "# investigate feature interactions and synergy"
      ],
      "execution_count": 0,
      "outputs": []
    },
    {
      "cell_type": "code",
      "metadata": {
        "hidden": true,
        "id": "Ay5etalhW_VG",
        "colab_type": "code",
        "colab": {}
      },
      "source": [
        "# other transformations (data mining)"
      ],
      "execution_count": 0,
      "outputs": []
    },
    {
      "cell_type": "markdown",
      "metadata": {
        "heading_collapsed": true,
        "id": "wFaAme30W_VP",
        "colab_type": "text"
      },
      "source": [
        "# Feature Selection"
      ]
    },
    {
      "cell_type": "code",
      "metadata": {
        "hidden": true,
        "id": "weZ45eKYW_VQ",
        "colab_type": "code",
        "colab": {}
      },
      "source": [
        "# L1 and L2 Regularisation"
      ],
      "execution_count": 0,
      "outputs": []
    },
    {
      "cell_type": "code",
      "metadata": {
        "hidden": true,
        "id": "0egTnbxLW_VZ",
        "colab_type": "code",
        "colab": {}
      },
      "source": [
        "# forward selection, backward selection and/or mixed selection"
      ],
      "execution_count": 0,
      "outputs": []
    },
    {
      "cell_type": "code",
      "metadata": {
        "hidden": true,
        "id": "nW0FXWCHW_Vl",
        "colab_type": "code",
        "colab": {}
      },
      "source": [
        "# genetic algorithms (borita)"
      ],
      "execution_count": 0,
      "outputs": []
    },
    {
      "cell_type": "code",
      "metadata": {
        "hidden": true,
        "id": "hMyqfG-VW_Vq",
        "colab_type": "code",
        "colab": {}
      },
      "source": [
        "# Random forests and feature importance"
      ],
      "execution_count": 0,
      "outputs": []
    },
    {
      "cell_type": "markdown",
      "metadata": {
        "heading_collapsed": true,
        "id": "XKayYqsSW_Vz",
        "colab_type": "text"
      },
      "source": [
        "# Model Selection "
      ]
    },
    {
      "cell_type": "code",
      "metadata": {
        "hidden": true,
        "id": "pvYaepNyW_V0",
        "colab_type": "code",
        "colab": {}
      },
      "source": [
        "# fit multiple models and do hyper-parameter tuning"
      ],
      "execution_count": 0,
      "outputs": []
    },
    {
      "cell_type": "code",
      "metadata": {
        "hidden": true,
        "id": "YsOEX9nFW_V3",
        "colab_type": "code",
        "colab": {}
      },
      "source": [
        "# cross validate model perfomance"
      ],
      "execution_count": 0,
      "outputs": []
    },
    {
      "cell_type": "code",
      "metadata": {
        "hidden": true,
        "id": "jdnGGssjW_V6",
        "colab_type": "code",
        "colab": {}
      },
      "source": [
        "# select the best model and implement it as final solution"
      ],
      "execution_count": 0,
      "outputs": []
    },
    {
      "cell_type": "markdown",
      "metadata": {
        "heading_collapsed": true,
        "id": "XGmeDFMDW_WE",
        "colab_type": "text"
      },
      "source": [
        "# Summary of Conclusions"
      ]
    },
    {
      "cell_type": "code",
      "metadata": {
        "hidden": true,
        "id": "uYNl67YDW_WF",
        "colab_type": "code",
        "colab": {}
      },
      "source": [
        "# summarise findings and make recommendations"
      ],
      "execution_count": 0,
      "outputs": []
    }
  ]
}